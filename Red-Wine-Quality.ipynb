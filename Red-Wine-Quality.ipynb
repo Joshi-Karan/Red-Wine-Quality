{
 "cells": [
  {
   "cell_type": "code",
   "execution_count": 1,
   "id": "2ce4ffc5",
   "metadata": {
    "scrolled": true
   },
   "outputs": [],
   "source": [
    "# Importing required packages\n",
    "\n",
    "import pandas as pd\n",
    "import seaborn as sns\n",
    "import matplotlib.pyplot as plt\n",
    "from sklearn.ensemble import RandomForestClassifier\n",
    "from sklearn.svm import SVC\n",
    "from sklearn.linear_model import SGDClassifier\n",
    "from sklearn.metrics import classification_report, accuracy_score\n",
    "from sklearn.preprocessing import StandardScaler, LabelEncoder\n",
    "from sklearn.model_selection import train_test_split, GridSearchCV, cross_val_score\n",
    "%matplotlib inline"
   ]
  },
  {
   "cell_type": "code",
   "execution_count": null,
   "id": "3521dc30",
   "metadata": {},
   "outputs": [],
   "source": []
  },
  {
   "cell_type": "markdown",
   "id": "3935f5e7",
   "metadata": {},
   "source": [
    "# Visualizing the data"
   ]
  },
  {
   "cell_type": "code",
   "execution_count": 2,
   "id": "6c71f179",
   "metadata": {
    "scrolled": true
   },
   "outputs": [],
   "source": [
    "df = pd.read_csv('winequality-red.csv')"
   ]
  },
  {
   "cell_type": "code",
   "execution_count": 3,
   "id": "63f8ae32",
   "metadata": {
    "scrolled": true
   },
   "outputs": [
    {
     "data": {
      "text/html": [
       "<div>\n",
       "<style scoped>\n",
       "    .dataframe tbody tr th:only-of-type {\n",
       "        vertical-align: middle;\n",
       "    }\n",
       "\n",
       "    .dataframe tbody tr th {\n",
       "        vertical-align: top;\n",
       "    }\n",
       "\n",
       "    .dataframe thead th {\n",
       "        text-align: right;\n",
       "    }\n",
       "</style>\n",
       "<table border=\"1\" class=\"dataframe\">\n",
       "  <thead>\n",
       "    <tr style=\"text-align: right;\">\n",
       "      <th></th>\n",
       "      <th>fixed acidity</th>\n",
       "      <th>volatile acidity</th>\n",
       "      <th>citric acid</th>\n",
       "      <th>residual sugar</th>\n",
       "      <th>chlorides</th>\n",
       "      <th>free sulfur dioxide</th>\n",
       "      <th>total sulfur dioxide</th>\n",
       "      <th>density</th>\n",
       "      <th>pH</th>\n",
       "      <th>sulphates</th>\n",
       "      <th>alcohol</th>\n",
       "      <th>quality</th>\n",
       "    </tr>\n",
       "  </thead>\n",
       "  <tbody>\n",
       "    <tr>\n",
       "      <th>0</th>\n",
       "      <td>7.4</td>\n",
       "      <td>0.70</td>\n",
       "      <td>0.00</td>\n",
       "      <td>1.9</td>\n",
       "      <td>0.076</td>\n",
       "      <td>11.0</td>\n",
       "      <td>34.0</td>\n",
       "      <td>0.9978</td>\n",
       "      <td>3.51</td>\n",
       "      <td>0.56</td>\n",
       "      <td>9.4</td>\n",
       "      <td>5</td>\n",
       "    </tr>\n",
       "    <tr>\n",
       "      <th>1</th>\n",
       "      <td>7.8</td>\n",
       "      <td>0.88</td>\n",
       "      <td>0.00</td>\n",
       "      <td>2.6</td>\n",
       "      <td>0.098</td>\n",
       "      <td>25.0</td>\n",
       "      <td>67.0</td>\n",
       "      <td>0.9968</td>\n",
       "      <td>3.20</td>\n",
       "      <td>0.68</td>\n",
       "      <td>9.8</td>\n",
       "      <td>5</td>\n",
       "    </tr>\n",
       "    <tr>\n",
       "      <th>2</th>\n",
       "      <td>7.8</td>\n",
       "      <td>0.76</td>\n",
       "      <td>0.04</td>\n",
       "      <td>2.3</td>\n",
       "      <td>0.092</td>\n",
       "      <td>15.0</td>\n",
       "      <td>54.0</td>\n",
       "      <td>0.9970</td>\n",
       "      <td>3.26</td>\n",
       "      <td>0.65</td>\n",
       "      <td>9.8</td>\n",
       "      <td>5</td>\n",
       "    </tr>\n",
       "    <tr>\n",
       "      <th>3</th>\n",
       "      <td>11.2</td>\n",
       "      <td>0.28</td>\n",
       "      <td>0.56</td>\n",
       "      <td>1.9</td>\n",
       "      <td>0.075</td>\n",
       "      <td>17.0</td>\n",
       "      <td>60.0</td>\n",
       "      <td>0.9980</td>\n",
       "      <td>3.16</td>\n",
       "      <td>0.58</td>\n",
       "      <td>9.8</td>\n",
       "      <td>6</td>\n",
       "    </tr>\n",
       "    <tr>\n",
       "      <th>4</th>\n",
       "      <td>7.4</td>\n",
       "      <td>0.70</td>\n",
       "      <td>0.00</td>\n",
       "      <td>1.9</td>\n",
       "      <td>0.076</td>\n",
       "      <td>11.0</td>\n",
       "      <td>34.0</td>\n",
       "      <td>0.9978</td>\n",
       "      <td>3.51</td>\n",
       "      <td>0.56</td>\n",
       "      <td>9.4</td>\n",
       "      <td>5</td>\n",
       "    </tr>\n",
       "  </tbody>\n",
       "</table>\n",
       "</div>"
      ],
      "text/plain": [
       "   fixed acidity  volatile acidity  citric acid  residual sugar  chlorides  \\\n",
       "0            7.4              0.70         0.00             1.9      0.076   \n",
       "1            7.8              0.88         0.00             2.6      0.098   \n",
       "2            7.8              0.76         0.04             2.3      0.092   \n",
       "3           11.2              0.28         0.56             1.9      0.075   \n",
       "4            7.4              0.70         0.00             1.9      0.076   \n",
       "\n",
       "   free sulfur dioxide  total sulfur dioxide  density    pH  sulphates  \\\n",
       "0                 11.0                  34.0   0.9978  3.51       0.56   \n",
       "1                 25.0                  67.0   0.9968  3.20       0.68   \n",
       "2                 15.0                  54.0   0.9970  3.26       0.65   \n",
       "3                 17.0                  60.0   0.9980  3.16       0.58   \n",
       "4                 11.0                  34.0   0.9978  3.51       0.56   \n",
       "\n",
       "   alcohol  quality  \n",
       "0      9.4        5  \n",
       "1      9.8        5  \n",
       "2      9.8        5  \n",
       "3      9.8        6  \n",
       "4      9.4        5  "
      ]
     },
     "execution_count": 3,
     "metadata": {},
     "output_type": "execute_result"
    }
   ],
   "source": [
    "df.head()"
   ]
  },
  {
   "cell_type": "code",
   "execution_count": 4,
   "id": "c5af5003",
   "metadata": {
    "scrolled": true
   },
   "outputs": [
    {
     "name": "stdout",
     "output_type": "stream",
     "text": [
      "<class 'pandas.core.frame.DataFrame'>\n",
      "RangeIndex: 1599 entries, 0 to 1598\n",
      "Data columns (total 12 columns):\n",
      " #   Column                Non-Null Count  Dtype  \n",
      "---  ------                --------------  -----  \n",
      " 0   fixed acidity         1599 non-null   float64\n",
      " 1   volatile acidity      1599 non-null   float64\n",
      " 2   citric acid           1599 non-null   float64\n",
      " 3   residual sugar        1599 non-null   float64\n",
      " 4   chlorides             1599 non-null   float64\n",
      " 5   free sulfur dioxide   1599 non-null   float64\n",
      " 6   total sulfur dioxide  1599 non-null   float64\n",
      " 7   density               1599 non-null   float64\n",
      " 8   pH                    1599 non-null   float64\n",
      " 9   sulphates             1599 non-null   float64\n",
      " 10  alcohol               1599 non-null   float64\n",
      " 11  quality               1599 non-null   int64  \n",
      "dtypes: float64(11), int64(1)\n",
      "memory usage: 150.0 KB\n"
     ]
    }
   ],
   "source": [
    "df.info()"
   ]
  },
  {
   "cell_type": "markdown",
   "id": "900633d0",
   "metadata": {
    "scrolled": true
   },
   "source": [
    "### Ploting multiple barplots"
   ]
  },
  {
   "cell_type": "code",
   "execution_count": 5,
   "id": "4b5719b2",
   "metadata": {
    "scrolled": false
   },
   "outputs": [
    {
     "data": {
      "image/png": "[encoded data removed]",
      "text/plain": [
       "<Figure size 700x1200 with 12 Axes>"
      ]
     },
     "metadata": {},
     "output_type": "display_data"
    }
   ],
   "source": [
    "f, axs = plt.subplots(4, 3, figsize=(7, 12))\n",
    "sns.barplot(x=df[\"quality\"], y=df[\"fixed acidity\"], ax=axs[0][0])\n",
    "sns.barplot(x=df[\"quality\"], y=df[\"volatile acidity\"], ax=axs[0][1])\n",
    "sns.barplot(x=df[\"quality\"], y=df[\"citric acid\"], ax=axs[0][2])\n",
    "sns.barplot(x=df[\"quality\"], y=df[\"residual sugar\"], ax=axs[1][0])\n",
    "sns.barplot(x=df[\"quality\"], y=df[\"chlorides\"], ax=axs[1][1])\n",
    "sns.barplot(x=df[\"quality\"], y=df[\"free sulfur dioxide\"], ax=axs[1][2])\n",
    "sns.barplot(x=df[\"quality\"], y=df[\"total sulfur dioxide\"], ax=axs[2][0])\n",
    "sns.barplot(x=df[\"quality\"], y=df[\"density\"], ax=axs[2][1])\n",
    "sns.barplot(x=df[\"quality\"], y=df[\"pH\"], ax=axs[2][2])\n",
    "sns.barplot(x=df[\"quality\"], y=df[\"sulphates\"], ax=axs[3][0])\n",
    "sns.barplot(x=df[\"quality\"], y=df[\"alcohol\"], ax=axs[3][1])\n",
    "\n",
    "f.tight_layout()"
   ]
  },
  {
   "cell_type": "markdown",
   "id": "1cb10213",
   "metadata": {},
   "source": [
    "#### If one observe density vs quality plot, one can observe that density can be dropped"
   ]
  },
  {
   "cell_type": "code",
   "execution_count": null,
   "id": "375c5118",
   "metadata": {},
   "outputs": [],
   "source": []
  },
  {
   "cell_type": "markdown",
   "id": "f37e3d11",
   "metadata": {},
   "source": [
    "# Preprocessing Data"
   ]
  },
  {
   "cell_type": "markdown",
   "id": "bfcca73a",
   "metadata": {},
   "source": [
    "#### We will re-label values in 'quality' column as either good (value>6) or bad (value<=6)"
   ]
  },
  {
   "cell_type": "code",
   "execution_count": 6,
   "id": "c483f4ca",
   "metadata": {
    "scrolled": true
   },
   "outputs": [
    {
     "name": "stdout",
     "output_type": "stream",
     "text": [
      "3 8\n"
     ]
    }
   ],
   "source": [
    "print(df['quality'].min(), df['quality'].max())"
   ]
  },
  {
   "cell_type": "code",
   "execution_count": 7,
   "id": "ceae6a87",
   "metadata": {},
   "outputs": [],
   "source": [
    "bins = (2, 6, 8)\n",
    "labels = ['bad', 'good']\n",
    "df['quality'] = pd.cut(df['quality'], bins=bins, labels=labels)"
   ]
  },
  {
   "cell_type": "code",
   "execution_count": 8,
   "id": "6cb45878",
   "metadata": {},
   "outputs": [],
   "source": [
    "label_encoder = LabelEncoder()\n",
    "df['quality'] = label_encoder.fit_transform(df['quality'])"
   ]
  },
  {
   "cell_type": "code",
   "execution_count": 9,
   "id": "ffce3aaf",
   "metadata": {},
   "outputs": [
    {
     "data": {
      "text/plain": [
       "0    1382\n",
       "1     217\n",
       "Name: quality, dtype: int64"
      ]
     },
     "execution_count": 9,
     "metadata": {},
     "output_type": "execute_result"
    }
   ],
   "source": [
    "df['quality'].value_counts()"
   ]
  },
  {
   "cell_type": "markdown",
   "id": "6c6a8cdc",
   "metadata": {},
   "source": [
    "#### Creating training and testing sets after droping 'quality' column"
   ]
  },
  {
   "cell_type": "code",
   "execution_count": 10,
   "id": "8f69245f",
   "metadata": {},
   "outputs": [],
   "source": [
    "X = df.drop(['quality', 'density'], axis=1)\n",
    "y = df['quality']"
   ]
  },
  {
   "cell_type": "code",
   "execution_count": 11,
   "id": "619daeb4",
   "metadata": {},
   "outputs": [],
   "source": [
    "X_train, X_test, y_train, y_test = train_test_split(X, y, test_size=0.2, random_state=42)"
   ]
  },
  {
   "cell_type": "markdown",
   "id": "38f72073",
   "metadata": {},
   "source": [
    "#### Scaling the data"
   ]
  },
  {
   "cell_type": "code",
   "execution_count": 12,
   "id": "8336a07f",
   "metadata": {},
   "outputs": [],
   "source": [
    "sc = StandardScaler()\n",
    "\n",
    "X_train_sc = sc.fit_transform(X_train)\n",
    "X_test_sc = sc.fit_transform(X_test)"
   ]
  },
  {
   "cell_type": "code",
   "execution_count": null,
   "id": "4e06587f",
   "metadata": {},
   "outputs": [],
   "source": []
  },
  {
   "cell_type": "markdown",
   "id": "e69ba3f3",
   "metadata": {},
   "source": [
    "### Trying RandomForestClassifier"
   ]
  },
  {
   "cell_type": "code",
   "execution_count": 13,
   "id": "f519edd0",
   "metadata": {},
   "outputs": [
    {
     "name": "stdout",
     "output_type": "stream",
     "text": [
      "              precision    recall  f1-score   support\n",
      "\n",
      "           0       0.92      0.97      0.95       273\n",
      "           1       0.76      0.53      0.62        47\n",
      "\n",
      "    accuracy                           0.91       320\n",
      "   macro avg       0.84      0.75      0.79       320\n",
      "weighted avg       0.90      0.91      0.90       320\n",
      "\n",
      "Accuracy is:  0.90625\n"
     ]
    }
   ],
   "source": [
    "rf_clf = RandomForestClassifier(n_estimators=200)\n",
    "rf_clf.fit(X_train, y_train)\n",
    "y_pred_rf_clf = rf_clf.predict(X_test)\n",
    "print(classification_report(y_test, y_pred_rf_clf))\n",
    "print(\"Accuracy is: \", accuracy_score(y_test, y_pred_rf_clf))"
   ]
  },
  {
   "cell_type": "code",
   "execution_count": 14,
   "id": "9a9c226c",
   "metadata": {},
   "outputs": [
    {
     "data": {
      "text/plain": [
       "0.9132320374015748"
      ]
     },
     "execution_count": 14,
     "metadata": {},
     "output_type": "execute_result"
    }
   ],
   "source": [
    "rf_clf_eval = cross_val_score(estimator=rf_clf, X = X_train, y = y_train, cv=10)\n",
    "rf_clf_eval.mean()"
   ]
  },
  {
   "cell_type": "code",
   "execution_count": null,
   "id": "2f6a64b2",
   "metadata": {},
   "outputs": [],
   "source": []
  },
  {
   "cell_type": "markdown",
   "id": "f4340b00",
   "metadata": {},
   "source": [
    "### Trying SGDClassifier"
   ]
  },
  {
   "cell_type": "code",
   "execution_count": 15,
   "id": "05b6e56e",
   "metadata": {},
   "outputs": [
    {
     "name": "stdout",
     "output_type": "stream",
     "text": [
      "              precision    recall  f1-score   support\n",
      "\n",
      "           0       0.93      0.85      0.89       273\n",
      "           1       0.42      0.64      0.50        47\n",
      "\n",
      "    accuracy                           0.82       320\n",
      "   macro avg       0.67      0.74      0.70       320\n",
      "weighted avg       0.86      0.82      0.83       320\n",
      "\n",
      "Accuracy is:  0.815625\n"
     ]
    }
   ],
   "source": [
    "sgd_clf = SGDClassifier(random_state=42)\n",
    "sgd_clf.fit(X_train, y_train)\n",
    "y_pred_sgd_clf = sgd_clf.predict(X_test)\n",
    "print(classification_report(y_test, y_pred_sgd_clf))\n",
    "print(\"Accuracy is: \", accuracy_score(y_test, y_pred_sgd_clf))"
   ]
  },
  {
   "cell_type": "code",
   "execution_count": 16,
   "id": "544341c3",
   "metadata": {},
   "outputs": [
    {
     "data": {
      "text/plain": [
       "0.8217273622047244"
      ]
     },
     "execution_count": 16,
     "metadata": {},
     "output_type": "execute_result"
    }
   ],
   "source": [
    "sgd_clf_eval = cross_val_score(estimator=sgd_clf, X = X_train, y = y_train, cv=10)\n",
    "sgd_clf_eval.mean()"
   ]
  },
  {
   "cell_type": "code",
   "execution_count": null,
   "id": "9e00ea21",
   "metadata": {},
   "outputs": [],
   "source": []
  },
  {
   "cell_type": "markdown",
   "id": "15f9dc16",
   "metadata": {},
   "source": [
    "### Trying SVC"
   ]
  },
  {
   "cell_type": "code",
   "execution_count": 17,
   "id": "c503c7a0",
   "metadata": {},
   "outputs": [
    {
     "name": "stdout",
     "output_type": "stream",
     "text": [
      "              precision    recall  f1-score   support\n",
      "\n",
      "           0       0.86      1.00      0.92       273\n",
      "           1       1.00      0.02      0.04        47\n",
      "\n",
      "    accuracy                           0.86       320\n",
      "   macro avg       0.93      0.51      0.48       320\n",
      "weighted avg       0.88      0.86      0.79       320\n",
      "\n",
      "Accuracy is:  0.85625\n"
     ]
    }
   ],
   "source": [
    "svc_clf = SVC(random_state=42)\n",
    "svc_clf.fit(X_train, y_train)\n",
    "y_pred_svc_clf = svc_clf.predict(X_test)\n",
    "print(classification_report(y_test, y_pred_svc_clf))\n",
    "print(\"Accuracy is: \", accuracy_score(y_test, y_pred_svc_clf))"
   ]
  },
  {
   "cell_type": "markdown",
   "id": "622d610c",
   "metadata": {},
   "source": [
    "#### Using GridSearchCV to get best params"
   ]
  },
  {
   "cell_type": "code",
   "execution_count": 18,
   "id": "8c5fb709",
   "metadata": {},
   "outputs": [],
   "source": [
    "param_svc = {\n",
    "    'C' : [0.1, 0.8, 0.9, 1, 1.1, 1.2],\n",
    "    'kernel' : ['poly', 'rbf', 'linear']\n",
    "}\n",
    "svc_clf2 = GridSearchCV(svc_clf, param_grid=param_svc, scoring='accuracy', cv=10)"
   ]
  },
  {
   "cell_type": "code",
   "execution_count": 19,
   "id": "1386cc84",
   "metadata": {},
   "outputs": [
    {
     "data": {
      "text/plain": [
       "GridSearchCV(cv=10, estimator=SVC(random_state=42),\n",
       "             param_grid={'C': [0.1, 0.8, 0.9, 1, 1.1, 1.2],\n",
       "                         'kernel': ['poly', 'rbf', 'linear']},\n",
       "             scoring='accuracy')"
      ]
     },
     "execution_count": 19,
     "metadata": {},
     "output_type": "execute_result"
    }
   ],
   "source": [
    "svc_clf2.fit(X_train, y_train)"
   ]
  },
  {
   "cell_type": "code",
   "execution_count": 20,
   "id": "16518132",
   "metadata": {},
   "outputs": [
    {
     "data": {
      "text/plain": [
       "{'C': 0.1, 'kernel': 'poly'}"
      ]
     },
     "execution_count": 20,
     "metadata": {},
     "output_type": "execute_result"
    }
   ],
   "source": [
    "svc_clf2.best_params_"
   ]
  },
  {
   "cell_type": "code",
   "execution_count": 22,
   "id": "465a4dbb",
   "metadata": {},
   "outputs": [
    {
     "name": "stdout",
     "output_type": "stream",
     "text": [
      "Accuracy is:  0.853125\n"
     ]
    }
   ],
   "source": [
    "svc_final = SVC(C=0.1, kernel='poly')\n",
    "svc_final.fit(X_train, y_train)\n",
    "y_pred_svc_final = svc_final.predict(X_test)\n",
    "print(\"Accuracy is: \", accuracy_score(y_test, y_pred_svc_final))"
   ]
  },
  {
   "cell_type": "code",
   "execution_count": null,
   "id": "99dda22a",
   "metadata": {},
   "outputs": [],
   "source": []
  },
  {
   "cell_type": "markdown",
   "id": "801a4ee2",
   "metadata": {},
   "source": [
    "##### Thus RandomForestClassifier gives the highest accuracy"
   ]
  }
 ],
 "metadata": {
  "kernelspec": {
   "display_name": "Python 3 (ipykernel)",
   "language": "python",
   "name": "python3"
  },
  "language_info": {
   "codemirror_mode": {
    "name": "ipython",
    "version": 3
   },
   "file_extension": ".py",
   "mimetype": "text/x-python",
   "name": "python",
   "nbconvert_exporter": "python",
   "pygments_lexer": "ipython3",
   "version": "3.9.12"
  }
 },
 "nbformat": 4,
 "nbformat_minor": 5
}
